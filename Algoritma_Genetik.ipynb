{
  "nbformat": 4,
  "nbformat_minor": 0,
  "metadata": {
    "colab": {
      "provenance": []
    },
    "kernelspec": {
      "name": "python3",
      "display_name": "Python 3"
    },
    "language_info": {
      "name": "python"
    }
  },
  "cells": [
    {
      "cell_type": "code",
      "execution_count": null,
      "metadata": {
        "id": "irGOUxfHjD_c"
      },
      "outputs": [],
      "source": [
        "import numpy as np, random, operator, pandas as pd, matplotlib.pyplot as plt\n"
      ]
    },
    {
      "cell_type": "code",
      "source": [
        "class City:\n",
        "  def __init__(self, x, y):\n",
        "    self.x = x\n",
        "    self.y = y\n",
        "  def distance(self, city):\n",
        "    xDis = abs(self.x - city.x)\n",
        "    yDis = abs(self.y - city.y)\n",
        "    distance = np.sqrt((xDis ** 2) + (yDis ** 2))\n",
        "    return distance\n",
        "  def __repr__(self):\n",
        "    return \"(\" + str(self.x) + \",\" + str(self.y)+ \")\"\n",
        "\n",
        "jmlKota = 6\n",
        "cityList = []\n",
        "for i in range(0,jmlKota):\n",
        "    cityList.append(City(x=int(random.random() * 200),\n",
        "        y=int(random.random() * 200)))\n",
        "print (cityList)"
      ],
      "metadata": {
        "colab": {
          "base_uri": "https://localhost:8080/"
        },
        "id": "ZIPGRF4LkRg0",
        "outputId": "5cca3f18-436a-4048-f3f8-08e55fd9d6a2"
      },
      "execution_count": null,
      "outputs": [
        {
          "output_type": "stream",
          "name": "stdout",
          "text": [
            "[(20,54), (178,47), (6,139), (48,99), (73,164), (181,195)]\n"
          ]
        }
      ]
    },
    {
      "cell_type": "code",
      "source": [
        "def createRoute(cityList):\n",
        "  route = random.sample(cityList, len(cityList))\n",
        "  return route\n",
        "route = createRoute(cityList)\n",
        "print (\"rute :\", route)"
      ],
      "metadata": {
        "colab": {
          "base_uri": "https://localhost:8080/"
        },
        "id": "JFaYgRNPlBuf",
        "outputId": "9ab28306-620c-4772-9e76-6b43551dd035"
      },
      "execution_count": null,
      "outputs": [
        {
          "output_type": "stream",
          "name": "stdout",
          "text": [
            "rute : [(6,139), (48,99), (178,47), (73,164), (20,54), (181,195)]\n"
          ]
        }
      ]
    },
    {
      "cell_type": "code",
      "source": [
        "def initialPopulation(popSize, cityList):\n",
        "  population = []\n",
        "  for i in range(0, popSize):\n",
        "      population.append(createRoute(cityList))\n",
        "  return population\n",
        "popSize = 4\n",
        "pop = initialPopulation(popSize, cityList)\n",
        "print (\"populasi : \", pop)"
      ],
      "metadata": {
        "colab": {
          "base_uri": "https://localhost:8080/"
        },
        "id": "IM0Gl7DulHZP",
        "outputId": "36f7bfe6-e46a-4ae6-a7f7-a230aa4685be"
      },
      "execution_count": null,
      "outputs": [
        {
          "output_type": "stream",
          "name": "stdout",
          "text": [
            "populasi :  [[(181,195), (48,99), (178,47), (73,164), (20,54), (6,139)], [(73,164), (178,47), (6,139), (20,54), (181,195), (48,99)], [(20,54), (48,99), (73,164), (181,195), (178,47), (6,139)], [(48,99), (178,47), (73,164), (6,139), (181,195), (20,54)]]\n"
          ]
        }
      ]
    },
    {
      "cell_type": "code",
      "source": [
        "class Fitness:\n",
        "    def __init__(self, route):\n",
        "        self.route = route\n",
        "        self.distance = 0\n",
        "        self.fitness= 0.0\n",
        "\n",
        "    def routeDistance(self):\n",
        "        if self.distance ==0:\n",
        "            pathDistance = 0\n",
        "            for i in range(0, len(self.route)):\n",
        "                fromCity = self.route[i]\n",
        "                toCity = None\n",
        "                if i + 1 < len(self.route):\n",
        "                  toCity = self.route[i + 1]\n",
        "                else:\n",
        "                  toCity = self.route[0]\n",
        "                pathDistance += fromCity.distance(toCity)\n",
        "            self.distance = pathDistance\n",
        "        return self.distance\n",
        "\n",
        "    def routeFitness(self):\n",
        "        if self.fitness == 0:\n",
        "            self.fitness = 1 / float(self.routeDistance())\n",
        "        return self.fitness\n",
        "\n",
        "fitnessResults = {}\n",
        "for i in range(0,len(pop)):\n",
        "    fitnessResults[i] = Fitness(pop[i]).routeFitness()\n",
        "print(\"fitness :\", fitnessResults)"
      ],
      "metadata": {
        "colab": {
          "base_uri": "https://localhost:8080/"
        },
        "id": "gEMiJuS5lPPH",
        "outputId": "3113e58a-b5fe-40c4-91cf-f89645040d49"
      },
      "execution_count": null,
      "outputs": [
        {
          "output_type": "stream",
          "name": "stdout",
          "text": [
            "fitness : {0: 0.0011720060716876232, 1: 0.0011285478549976791, 2: 0.0015054854758521346, 3: 0.0012202725194136565}\n"
          ]
        }
      ]
    },
    {
      "cell_type": "code",
      "source": [
        "def rankRoutes(population):\n",
        "    fitnessResults = {}\n",
        "    for i in range(0,len(population)):\n",
        "        fitnessResults[i] = Fitness(population[i]).routeFitness()\n",
        "    return sorted(fitnessResults.items(), key = operator.itemgetter(1), reverse = True)\n",
        "popRanked = rankRoutes(pop)\n",
        "print(\"rank Routes :\", popRanked)"
      ],
      "metadata": {
        "colab": {
          "base_uri": "https://localhost:8080/"
        },
        "id": "Fgy_pW8wmfg0",
        "outputId": "c9479f81-59c0-47ec-8735-4d04f0bcb1b4"
      },
      "execution_count": null,
      "outputs": [
        {
          "output_type": "stream",
          "name": "stdout",
          "text": [
            "rank Routes : [(2, 0.0015054854758521346), (3, 0.0012202725194136565), (0, 0.0011720060716876232), (1, 0.0011285478549976791)]\n"
          ]
        }
      ]
    },
    {
      "cell_type": "code",
      "source": [
        "def selection(popRanked, eliteSize):\n",
        "    selectionResults = []\n",
        "    df = pd.DataFrame(np.array(popRanked), columns=[\"Index\",\"Fitness\"])\n",
        "    df['cum_sum'] = df.Fitness.cumsum()\n",
        "    df['cum_perc'] = 100*df.cum_sum/df.Fitness.sum()\n",
        "\n",
        "    for i in range(0, eliteSize): selectionResults.append(popRanked[i][0])\n",
        "    for i in range(0, len(popRanked) - eliteSize): pick = 100*random.random()\n",
        "    for i in range(0, len(popRanked)):\n",
        "        if pick <= df.iat[i,3]:\n",
        "            selectionResults.append(popRanked[i][0])\n",
        "            break\n",
        "    return selectionResults\n",
        "eliteSize = 2\n",
        "selectionResults = selection(popRanked, eliteSize)\n",
        "print (\" selection results :\" , selectionResults)"
      ],
      "metadata": {
        "colab": {
          "base_uri": "https://localhost:8080/"
        },
        "id": "ME2eEH0Hm1cl",
        "outputId": "e9b97091-1b68-4e87-b5be-adf45c1be45d"
      },
      "execution_count": null,
      "outputs": [
        {
          "output_type": "stream",
          "name": "stdout",
          "text": [
            " selection results : [2, 3, 3]\n"
          ]
        }
      ]
    },
    {
      "cell_type": "code",
      "source": [
        "def matingPool(population, selectionResults):\n",
        "      matingpool = []\n",
        "      for i in range(0, len(selectionResults)):\n",
        "            index = selectionResults[i]\n",
        "            matingpool.append(population[index])\n",
        "      return matingpool\n",
        "currentGen = pop\n",
        "matingpool = matingPool(currentGen, selectionResults)\n",
        "print(\"matingPool :\",matingpool)"
      ],
      "metadata": {
        "colab": {
          "base_uri": "https://localhost:8080/"
        },
        "id": "C1WCjkkqniRz",
        "outputId": "0c1bf81c-8e0c-41e9-882a-8558e4d6a59b"
      },
      "execution_count": null,
      "outputs": [
        {
          "output_type": "stream",
          "name": "stdout",
          "text": [
            "matingPool : [[(20,54), (48,99), (73,164), (181,195), (178,47), (6,139)], [(48,99), (178,47), (73,164), (6,139), (181,195), (20,54)], [(48,99), (178,47), (73,164), (6,139), (181,195), (20,54)]]\n"
          ]
        }
      ]
    },
    {
      "cell_type": "code",
      "source": [
        "def breedPopulation(matingpool, eliteSize):\n",
        "    children = []\n",
        "    length = len(matingpool) - eliteSize\n",
        "    pool = random.sample(matingpool, len(matingpool))\n",
        "\n",
        "    for i in range(0,eliteSize): children.append(matingpool[i])\n",
        "\n",
        "    for i in range(0, length):\n",
        "      child = breed(pool[i], pool[len(matingpool)-i-1])\n",
        "      children.append(child)\n",
        "    return children\n",
        "def breed(parent1, parent2):\n",
        "    child = []\n",
        "    childP1 = []\n",
        "    childP2 = []\n",
        "    geneA = int(random.random() * len(parent1))\n",
        "    geneB = int(random.random() * len(parent1))\n",
        "    startGene = min(geneA, geneB)\n",
        "    endGene = max(geneA, geneB)\n",
        "    for i in range(startGene, endGene):\n",
        "          childP1.append(parent1[i])\n",
        "    childP2 = [item for item in parent2 if item not in\n",
        "childP1]\n",
        "    child = childP1 + childP2\n",
        "    return child\n",
        "children = breedPopulation(matingpool, eliteSize)\n",
        "print (\"chidren :\", children)"
      ],
      "metadata": {
        "colab": {
          "base_uri": "https://localhost:8080/"
        },
        "id": "_1Jsn2CInqoT",
        "outputId": "59103277-55a4-4ff6-f297-ea0eef8d2992"
      },
      "execution_count": null,
      "outputs": [
        {
          "output_type": "stream",
          "name": "stdout",
          "text": [
            "chidren : [[(20,54), (48,99), (73,164), (181,195), (178,47), (6,139)], [(48,99), (178,47), (73,164), (6,139), (181,195), (20,54)], [(48,99), (178,47), (73,164), (6,139), (181,195), (20,54)]]\n"
          ]
        }
      ]
    },
    {
      "cell_type": "code",
      "source": [
        "def mutatePopulation(population, mutationRate):\n",
        "    mutatedPop = []\n",
        "    for ind in range(0, len(population)):\n",
        "        mutatedInd = mutate(population[ind],mutationRate)\n",
        "        mutatedPop.append(mutatedInd)\n",
        "    return mutatedPop\n",
        "def mutate(individual, mutationRate):\n",
        "    for swapped in range(len(individual)):\n",
        "        if(random.random() < mutationRate):\n",
        "          swapWith = int(random.random() * len(individual))\n",
        "          city1 = individual[swapped]\n",
        "          city2 = individual[swapWith]\n",
        "          individual[swapped] = city2\n",
        "          individual[swapWith] = city1\n",
        "\n",
        "    return individual\n",
        "mutationRate = 0.01\n",
        "children = mutatePopulation(children, mutationRate)\n",
        "nextGeneration = children\n",
        "print (\"nextGeneration :\",nextGeneration)"
      ],
      "metadata": {
        "colab": {
          "base_uri": "https://localhost:8080/"
        },
        "id": "KuCPHbampNJb",
        "outputId": "ff259201-1c0c-49fa-8205-1bcd6af54970"
      },
      "execution_count": null,
      "outputs": [
        {
          "output_type": "stream",
          "name": "stdout",
          "text": [
            "nextGeneration : [[(20,54), (48,99), (73,164), (181,195), (178,47), (6,139)], [(48,99), (178,47), (73,164), (6,139), (181,195), (20,54)], [(48,99), (178,47), (73,164), (6,139), (181,195), (20,54)]]\n"
          ]
        }
      ]
    },
    {
      "cell_type": "code",
      "source": [
        "def geneticAlgorithm(population, popSize, eliteSize, mutationRate, generations):\n",
        "    pop = initialPopulation(popSize, population)\n",
        "    print(\"Initial distance: \" + str(1 / rankRoutes(pop)[0][1]))\n",
        "\n",
        "    for i in range(0, generations):\n",
        "          pop = nextGeneration(pop, eliteSize,mutationRate)\n",
        "\n",
        "    print(\"Final distance: \" + str(1 / rankRoutes(pop)[0][1]))\n",
        "    bestRouteIndex = rankRoutes(pop)[0][0]\n",
        "    bestRoute = pop[bestRouteIndex]\n",
        "    return bestRoute\n",
        "\n",
        "def nextGeneration(currentGen, eliteSize, mutationRate):\n",
        "      popRanked = rankRoutes(currentGen)\n",
        "      selectionResults = selection(popRanked, eliteSize)\n",
        "      matingpool = matingPool(currentGen,selectionResults)\n",
        "      children = breedPopulation(matingpool, eliteSize)\n",
        "      nextGeneration = mutatePopulation(children, mutationRate)\n",
        "      return nextGeneration\n",
        "geneticAlgorithm(population=cityList, popSize = 10, eliteSize=2, mutationRate=0.01, generations=500)"
      ],
      "metadata": {
        "colab": {
          "base_uri": "https://localhost:8080/"
        },
        "id": "G_WghAenqGI7",
        "outputId": "e0547c48-c61d-4eb9-cc26-30fdc686c848"
      },
      "execution_count": null,
      "outputs": [
        {
          "output_type": "stream",
          "name": "stdout",
          "text": [
            "Initial distance: 666.6533547851325\n",
            "Final distance: 601.0586515442609\n"
          ]
        },
        {
          "output_type": "execute_result",
          "data": {
            "text/plain": [
              "[(73,164), (181,195), (178,47), (20,54), (48,99), (6,139)]"
            ]
          },
          "metadata": {},
          "execution_count": 14
        }
      ]
    }
  ]
}